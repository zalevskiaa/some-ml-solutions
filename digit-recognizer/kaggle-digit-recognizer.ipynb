{
 "cells": [
  {
   "cell_type": "markdown",
   "id": "f49acd64-21ab-4936-91a1-c8c339a1cafd",
   "metadata": {},
   "source": [
    "This is my solution for Kaggle <a href=\"https://www.kaggle.com/competitions/digit-recognizer/overview\"> digit-recognizer </a> problem.\n",
    "\n",
    "CNN-model is based on this topic: <a href=\"https://www.kaggle.com/competitions/digit-recognizer/discussion/426580\"> Simple Keras Deep Learning Top 1% </a>."
   ]
  },
  {
   "cell_type": "code",
   "execution_count": 1,
   "id": "dd42ae6e-181e-4ed5-a90a-71a5d579736d",
   "metadata": {},
   "outputs": [],
   "source": [
    "import numpy as np\n",
    "import pandas as pd\n",
    "import matplotlib.pyplot as plt\n",
    "\n",
    "import torch\n",
    "import torchvision\n",
    "import cv2\n",
    "\n",
    "import os\n",
    "\n",
    "from torch import nn\n",
    "from torchvision import transforms\n",
    "from torchvision.transforms import ToTensor\n",
    "\n",
    "from sklearn.model_selection import train_test_split\n",
    "\n",
    "from tqdm.notebook import tqdm, trange"
   ]
  },
  {
   "cell_type": "markdown",
   "id": "d94175e1-44bb-408c-b685-132e37f30b12",
   "metadata": {},
   "source": [
    "### Datasets"
   ]
  },
  {
   "cell_type": "code",
   "execution_count": 2,
   "id": "a1b67213-79c6-4f7d-b97e-4be24cfad18b",
   "metadata": {},
   "outputs": [],
   "source": [
    "assert all(\n",
    "    filename in os.listdir('data') \n",
    "    for filename in ['train.csv', 'test.csv', 'sample_submission.csv']\n",
    ")"
   ]
  },
  {
   "cell_type": "code",
   "execution_count": 3,
   "id": "c9e89369-ce95-4aa1-a5e5-737abdb2fe04",
   "metadata": {},
   "outputs": [
    {
     "data": {
      "text/html": [
       "<div>\n",
       "<style scoped>\n",
       "    .dataframe tbody tr th:only-of-type {\n",
       "        vertical-align: middle;\n",
       "    }\n",
       "\n",
       "    .dataframe tbody tr th {\n",
       "        vertical-align: top;\n",
       "    }\n",
       "\n",
       "    .dataframe thead th {\n",
       "        text-align: right;\n",
       "    }\n",
       "</style>\n",
       "<table border=\"1\" class=\"dataframe\">\n",
       "  <thead>\n",
       "    <tr style=\"text-align: right;\">\n",
       "      <th></th>\n",
       "      <th>label</th>\n",
       "      <th>pixel0</th>\n",
       "      <th>pixel1</th>\n",
       "      <th>pixel2</th>\n",
       "      <th>pixel3</th>\n",
       "      <th>pixel4</th>\n",
       "      <th>pixel5</th>\n",
       "      <th>pixel6</th>\n",
       "      <th>pixel7</th>\n",
       "      <th>pixel8</th>\n",
       "      <th>...</th>\n",
       "      <th>pixel774</th>\n",
       "      <th>pixel775</th>\n",
       "      <th>pixel776</th>\n",
       "      <th>pixel777</th>\n",
       "      <th>pixel778</th>\n",
       "      <th>pixel779</th>\n",
       "      <th>pixel780</th>\n",
       "      <th>pixel781</th>\n",
       "      <th>pixel782</th>\n",
       "      <th>pixel783</th>\n",
       "    </tr>\n",
       "  </thead>\n",
       "  <tbody>\n",
       "    <tr>\n",
       "      <th>0</th>\n",
       "      <td>1</td>\n",
       "      <td>0</td>\n",
       "      <td>0</td>\n",
       "      <td>0</td>\n",
       "      <td>0</td>\n",
       "      <td>0</td>\n",
       "      <td>0</td>\n",
       "      <td>0</td>\n",
       "      <td>0</td>\n",
       "      <td>0</td>\n",
       "      <td>...</td>\n",
       "      <td>0.0</td>\n",
       "      <td>0.0</td>\n",
       "      <td>0.0</td>\n",
       "      <td>0.0</td>\n",
       "      <td>0.0</td>\n",
       "      <td>0.0</td>\n",
       "      <td>0.0</td>\n",
       "      <td>0.0</td>\n",
       "      <td>0.0</td>\n",
       "      <td>0.0</td>\n",
       "    </tr>\n",
       "    <tr>\n",
       "      <th>1</th>\n",
       "      <td>0</td>\n",
       "      <td>0</td>\n",
       "      <td>0</td>\n",
       "      <td>0</td>\n",
       "      <td>0</td>\n",
       "      <td>0</td>\n",
       "      <td>0</td>\n",
       "      <td>0</td>\n",
       "      <td>0</td>\n",
       "      <td>0</td>\n",
       "      <td>...</td>\n",
       "      <td>0.0</td>\n",
       "      <td>0.0</td>\n",
       "      <td>0.0</td>\n",
       "      <td>0.0</td>\n",
       "      <td>0.0</td>\n",
       "      <td>0.0</td>\n",
       "      <td>0.0</td>\n",
       "      <td>0.0</td>\n",
       "      <td>0.0</td>\n",
       "      <td>0.0</td>\n",
       "    </tr>\n",
       "    <tr>\n",
       "      <th>2</th>\n",
       "      <td>1</td>\n",
       "      <td>0</td>\n",
       "      <td>0</td>\n",
       "      <td>0</td>\n",
       "      <td>0</td>\n",
       "      <td>0</td>\n",
       "      <td>0</td>\n",
       "      <td>0</td>\n",
       "      <td>0</td>\n",
       "      <td>0</td>\n",
       "      <td>...</td>\n",
       "      <td>0.0</td>\n",
       "      <td>0.0</td>\n",
       "      <td>0.0</td>\n",
       "      <td>0.0</td>\n",
       "      <td>0.0</td>\n",
       "      <td>0.0</td>\n",
       "      <td>0.0</td>\n",
       "      <td>0.0</td>\n",
       "      <td>0.0</td>\n",
       "      <td>0.0</td>\n",
       "    </tr>\n",
       "    <tr>\n",
       "      <th>3</th>\n",
       "      <td>4</td>\n",
       "      <td>0</td>\n",
       "      <td>0</td>\n",
       "      <td>0</td>\n",
       "      <td>0</td>\n",
       "      <td>0</td>\n",
       "      <td>0</td>\n",
       "      <td>0</td>\n",
       "      <td>0</td>\n",
       "      <td>0</td>\n",
       "      <td>...</td>\n",
       "      <td>0.0</td>\n",
       "      <td>0.0</td>\n",
       "      <td>0.0</td>\n",
       "      <td>0.0</td>\n",
       "      <td>0.0</td>\n",
       "      <td>0.0</td>\n",
       "      <td>0.0</td>\n",
       "      <td>0.0</td>\n",
       "      <td>0.0</td>\n",
       "      <td>0.0</td>\n",
       "    </tr>\n",
       "    <tr>\n",
       "      <th>4</th>\n",
       "      <td>0</td>\n",
       "      <td>0</td>\n",
       "      <td>0</td>\n",
       "      <td>0</td>\n",
       "      <td>0</td>\n",
       "      <td>0</td>\n",
       "      <td>0</td>\n",
       "      <td>0</td>\n",
       "      <td>0</td>\n",
       "      <td>0</td>\n",
       "      <td>...</td>\n",
       "      <td>0.0</td>\n",
       "      <td>0.0</td>\n",
       "      <td>0.0</td>\n",
       "      <td>0.0</td>\n",
       "      <td>0.0</td>\n",
       "      <td>0.0</td>\n",
       "      <td>0.0</td>\n",
       "      <td>0.0</td>\n",
       "      <td>0.0</td>\n",
       "      <td>0.0</td>\n",
       "    </tr>\n",
       "  </tbody>\n",
       "</table>\n",
       "<p>5 rows × 785 columns</p>\n",
       "</div>"
      ],
      "text/plain": [
       "   label  pixel0  pixel1  pixel2  pixel3  pixel4  pixel5  pixel6  pixel7  \\\n",
       "0      1       0       0       0       0       0       0       0       0   \n",
       "1      0       0       0       0       0       0       0       0       0   \n",
       "2      1       0       0       0       0       0       0       0       0   \n",
       "3      4       0       0       0       0       0       0       0       0   \n",
       "4      0       0       0       0       0       0       0       0       0   \n",
       "\n",
       "   pixel8  ...  pixel774  pixel775  pixel776  pixel777  pixel778  pixel779  \\\n",
       "0       0  ...       0.0       0.0       0.0       0.0       0.0       0.0   \n",
       "1       0  ...       0.0       0.0       0.0       0.0       0.0       0.0   \n",
       "2       0  ...       0.0       0.0       0.0       0.0       0.0       0.0   \n",
       "3       0  ...       0.0       0.0       0.0       0.0       0.0       0.0   \n",
       "4       0  ...       0.0       0.0       0.0       0.0       0.0       0.0   \n",
       "\n",
       "   pixel780  pixel781  pixel782  pixel783  \n",
       "0       0.0       0.0       0.0       0.0  \n",
       "1       0.0       0.0       0.0       0.0  \n",
       "2       0.0       0.0       0.0       0.0  \n",
       "3       0.0       0.0       0.0       0.0  \n",
       "4       0.0       0.0       0.0       0.0  \n",
       "\n",
       "[5 rows x 785 columns]"
      ]
     },
     "execution_count": 3,
     "metadata": {},
     "output_type": "execute_result"
    }
   ],
   "source": [
    "df = pd.read_csv('data/train.csv')\n",
    "df.head()"
   ]
  },
  {
   "cell_type": "code",
   "execution_count": 4,
   "id": "f569733e-3ccd-489f-b071-d113662db7f5",
   "metadata": {},
   "outputs": [
    {
     "data": {
      "text/plain": [
       "True"
      ]
     },
     "execution_count": 4,
     "metadata": {},
     "output_type": "execute_result"
    }
   ],
   "source": [
    "df.isna().any().any()"
   ]
  },
  {
   "cell_type": "code",
   "execution_count": 5,
   "id": "0350dcb6-277b-4d1a-84c1-1fa051450319",
   "metadata": {},
   "outputs": [],
   "source": [
    "class Dataset(torch.utils.data.Dataset):\n",
    "    def __init__(self, data_dir='data', *, dataset_type='train', k=0.8):\n",
    "        self.dataset_type = dataset_type\n",
    "\n",
    "        if dataset_type in ['train', 'val']:\n",
    "\n",
    "            df = pd.read_csv(os.path.join(data_dir, 'train.csv'))\n",
    "            df_t, df_v = train_test_split(df, train_size=k, random_state=42)\n",
    "            \n",
    "            if dataset_type == 'train':\n",
    "                df = df_t\n",
    "            else:\n",
    "                df = df_v\n",
    "                \n",
    "            images = df.loc[:, [f'pixel{i}' for i in range(784)]].to_numpy() / 255\n",
    "            labels = df.loc[:, 'label'].to_numpy().astype(int)\n",
    "\n",
    "            self.items = []\n",
    "            for image, label in zip(images, labels):\n",
    "                if not np.isnan(image).any():\n",
    "                    self.items.append((image.reshape(1, 28, 28).astype(np.float32), label))\n",
    "\n",
    "            return\n",
    "            \n",
    "        if dataset_type == 'test':\n",
    "            \n",
    "            df = pd.read_csv(os.path.join(data_dir, 'test.csv'))\n",
    "            images = df.loc[:, [f'pixel{i}' for i in range(784)]].to_numpy() / 255\n",
    "            \n",
    "            self.items = []\n",
    "            for image in images:\n",
    "                if not np.isnan(image).any():\n",
    "                    self.items.append(image.reshape(1, 28, 28).astype(np.float32))\n",
    "                else:\n",
    "                    raise 'impossible'\n",
    "                    \n",
    "            return\n",
    "            \n",
    "        raise 'Unknown dataset_type'            \n",
    "\n",
    "    def __len__(self):\n",
    "        return len(self.items)\n",
    "\n",
    "    def __getitem__(self, i):\n",
    "        if self.dataset_type == 'test':\n",
    "            return self.items[i]\n",
    "            \n",
    "        img, label = self.items[i]\n",
    "        img = torch.from_numpy(img)\n",
    "        label = torch.cat([torch.zeros(label), torch.ones(1), torch.zeros(9 - label)])\n",
    "        \n",
    "        return img, label"
   ]
  },
  {
   "cell_type": "code",
   "execution_count": 6,
   "id": "0c0ae653-21ea-403c-866b-5c919182a136",
   "metadata": {},
   "outputs": [
    {
     "name": "stdout",
     "output_type": "stream",
     "text": [
      "22629 5658 28000\n"
     ]
    }
   ],
   "source": [
    "train_dataset = Dataset(dataset_type='train')\n",
    "val_dataset = Dataset(dataset_type='val')\n",
    "test_dataset = Dataset(dataset_type='test')\n",
    "\n",
    "print(len(train_dataset), len(val_dataset), len(test_dataset))"
   ]
  },
  {
   "cell_type": "code",
   "execution_count": 7,
   "id": "859f2122-392a-40ee-9bb2-5ff424703927",
   "metadata": {},
   "outputs": [],
   "source": [
    "# test_dataset[0]"
   ]
  },
  {
   "cell_type": "code",
   "execution_count": 8,
   "id": "507685bb-26eb-4a5d-910d-e444222adbcc",
   "metadata": {},
   "outputs": [],
   "source": [
    "random_transform = transforms.Compose([\n",
    "    transforms.RandomResizedCrop(size=28, scale=(0.85, 1), antialias=True),\n",
    "    transforms.RandomRotation(degrees=(-10,10))\n",
    "])\n",
    "\n",
    "def collate_fn(batch, transform=random_transform):\n",
    "    imgs = []\n",
    "    labels = []\n",
    "    \n",
    "    for img, label in batch:\n",
    "        imgs.append(transform(img).reshape(1, 1, 28, 28))\n",
    "        labels.append(label)\n",
    "\n",
    "    return torch.vstack(imgs), torch.vstack(labels)"
   ]
  },
  {
   "cell_type": "code",
   "execution_count": 9,
   "id": "0d0edd4c-d2d8-4e87-8f0a-4aeba28069ea",
   "metadata": {},
   "outputs": [],
   "source": [
    "train_loader = torch.utils.data.DataLoader(train_dataset, batch_size=64, shuffle=True, num_workers=4, drop_last=True, collate_fn=collate_fn)\n",
    "val_loader = torch.utils.data.DataLoader(val_dataset, batch_size=64, shuffle=False, num_workers=2, drop_last=False)\n",
    "test_loader = torch.utils.data.DataLoader(test_dataset, batch_size=64, shuffle=False, num_workers=0, drop_last=False)"
   ]
  },
  {
   "cell_type": "code",
   "execution_count": 10,
   "id": "6325af0d-f522-4ccd-af04-926275456011",
   "metadata": {},
   "outputs": [],
   "source": [
    "assert next(iter(train_loader))[0].shape == (64, 1, 28, 28)\n",
    "assert next(iter(train_loader))[1].shape == (64, 10)\n",
    "\n",
    "assert next(iter(val_loader))[0].shape == (64, 1, 28, 28)\n",
    "assert next(iter(val_loader))[1].shape == (64, 10)\n",
    "\n",
    "assert next(iter(test_loader)).shape == (64, 1, 28, 28)"
   ]
  },
  {
   "cell_type": "markdown",
   "id": "1c8f436e-a1d2-4a35-aef0-42a478e32895",
   "metadata": {},
   "source": [
    "### Model"
   ]
  },
  {
   "cell_type": "code",
   "execution_count": 11,
   "id": "c12322de-8399-40f3-87b4-50ff4fce22e6",
   "metadata": {},
   "outputs": [],
   "source": [
    "class ConvRelu(nn.Module):\n",
    "    def __init__(self, i, o, k, p, *, mp=None, do=None):\n",
    "        super().__init__()\n",
    "\n",
    "        self.layers = [nn.Conv2d(i, o, k, padding=p), nn.ReLU(), nn.BatchNorm2d(o)]\n",
    "        if mp:\n",
    "            self.layers.append(nn.MaxPool2d(mp))\n",
    "        if do:\n",
    "            self.layers.append(nn.Dropout(do))\n",
    "        \n",
    "        self.layers = nn.Sequential(*self.layers)\n",
    "\n",
    "    def forward(self, x):\n",
    "        return self.layers(x)\n",
    "\n",
    "\n",
    "class Classifier(nn.Module):\n",
    "    def __init__(self, h=64):\n",
    "        super().__init__()\n",
    "        \n",
    "        self.layers = []\n",
    "        self.layers += [ConvRelu(1, h, 5, 2), ConvRelu(h, h, 5, 2, mp=2, do=0.25)]\n",
    "        \n",
    "        self.layers += [ConvRelu(h, h, 3, 1), ConvRelu(h, h, 3, 1, mp=2, do=0.25)]\n",
    "        self.layers += [ConvRelu(h, h, 3, 1, do=0.25)]\n",
    "        \n",
    "        self.layers += [nn.Flatten(), nn.Linear(h * 7 * 7, 4 * h), nn.BatchNorm1d(4 * h), nn.Dropout(0.25)]\n",
    "        self.layers += [nn.Linear(4 * h, 10)]\n",
    "        \n",
    "        self.layers = nn.Sequential(*self.layers)\n",
    "        \n",
    "    def forward(self, x):\n",
    "        return self.layers(x)"
   ]
  },
  {
   "cell_type": "markdown",
   "id": "cc3a722f-a65c-4434-a8f7-c1d71a8287d3",
   "metadata": {},
   "source": [
    "### Train"
   ]
  },
  {
   "cell_type": "code",
   "execution_count": 12,
   "id": "661d5882-974d-4f75-ad99-2804c6bdd130",
   "metadata": {},
   "outputs": [],
   "source": [
    "def new_checkpoint():\n",
    "    epoch = 0\n",
    "    model = Classifier()\n",
    "    optim = torch.optim.Adam(model.parameters(), lr=0.001)\n",
    "    train_loss = []\n",
    "    train_acc = []\n",
    "    val_acc = []\n",
    "    \n",
    "    return epoch, model, optim, train_loss, train_acc, val_acc\n",
    "\n",
    "def save_checkpoint(epoch, model, optim, train_loss, train_acc, val_acc, *, path):\n",
    "    torch.save({\n",
    "            'epoch': epoch,\n",
    "            'model_state_dict': model.state_dict(),\n",
    "            'optim_state_dict': optim.state_dict(),\n",
    "            'train_loss': train_loss,\n",
    "            'train_acc': train_acc,\n",
    "            'val_acc': val_acc,            \n",
    "        }, \n",
    "        path\n",
    "    )\n",
    "\n",
    "def load_checkpoint(path):\n",
    "    epoch, model, _, train_loss, train_acc, val_acc = new_checkpoint()\n",
    "    \n",
    "    checkpoint = torch.load(path)\n",
    "\n",
    "    epoch = checkpoint['epoch']\n",
    "    model.load_state_dict(checkpoint['model_state_dict'])\n",
    "    model.to(device)\n",
    "    \n",
    "    optim = torch.optim.Adam(model.parameters(), lr=0.1)\n",
    "    optim.load_state_dict(checkpoint['optim_state_dict'])\n",
    "    \n",
    "    train_loss = checkpoint['train_loss']\n",
    "    train_acc = checkpoint['train_acc']\n",
    "    val_acc = checkpoint['val_acc']\n",
    "\n",
    "    return epoch, model, optim, train_loss, train_acc, val_acc\n",
    "\n",
    "def generate_checkpoint_path(dir_path='checkpoints'):\n",
    "    'checkpoint_{:03}.ckpt'\n",
    "    \n",
    "    ld = os.listdir(dir_path)\n",
    "    i = max(int(name[11:14]) for name in ld) if ld else -1\n",
    "    return os.path.join(dir_path, 'checkpoint_{:03}.ckpt'.format(i + 1))"
   ]
  },
  {
   "cell_type": "code",
   "execution_count": 13,
   "id": "0a61c313-1755-4569-8593-bbd083374041",
   "metadata": {},
   "outputs": [],
   "source": [
    "def acc_fn(out, labels):\n",
    "    bs = labels.shape[0]\n",
    "    \n",
    "    labels = torch.argmax(labels, dim=1)\n",
    "    out = torch.argmax(out, dim=1)\n",
    "    \n",
    "    assert labels.shape == out.shape\n",
    "    assert out.shape[0] == bs\n",
    "\n",
    "    return torch.sum(labels == out), bs # correct, total\n",
    "\n",
    "def compute_acc(model, dataloader):\n",
    "    with torch.no_grad():\n",
    "        correct, total = 0, 0\n",
    "        \n",
    "        for img, label in tqdm(dataloader, leave=False):\n",
    "            out = model(img.to(device)).cpu()\n",
    "            \n",
    "            c, t = acc_fn(out, label)\n",
    "            correct += c\n",
    "            total += t\n",
    "            \n",
    "    return correct / total\n",
    "    \n",
    "def train_step(batch, model, optim, loss_fn):\n",
    "    img, label = batch\n",
    "    \n",
    "    optim.zero_grad()\n",
    "                 \n",
    "    out = model(img.to(device))\n",
    "    loss = loss_fn(out, label.to(device))\n",
    "\n",
    "    loss.backward()\n",
    "    # nn.utils.clip_grad_value_(model.parameters(), 1)\n",
    "    optim.step()\n",
    "    \n",
    "    return loss.detach().cpu().item()\n",
    "\n",
    "    \n",
    "def train_loop(epoch, model, optim, train_loss, train_acc, val_acc, \n",
    "               train_loader, val_loader, *, epochs=10):\n",
    "    \n",
    "    model.to(device)\n",
    "    # loss_fn = nn.MSELoss()\n",
    "    loss_fn = nn.CrossEntropyLoss()\n",
    "    \n",
    "    loss = None\n",
    "    with trange(epochs, leave=True, desc='') as pbar:\n",
    "        for e in pbar:\n",
    "            correct, total = 0, 0\n",
    "            \n",
    "            for batch in tqdm(train_loader, leave=False):\n",
    "                loss = train_step(batch, model, optim, loss_fn)\n",
    "                train_loss.append(loss)\n",
    "                \n",
    "                pbar.set_description(f'loss: {np.mean(train_loss[:-6]):.4e}')\n",
    "\n",
    "            train_acc.append(compute_acc(model, train_loader))\n",
    "            val_acc.append(compute_acc(model, val_loader))\n",
    "\n",
    "            print('Epoch {:2}: train_acc: {:.3f}, val_acc: {:.3f}'.format(epoch, train_acc[-1], val_acc[-1]))\n",
    "            \n",
    "            epoch += 1\n",
    "            save_checkpoint(epoch, model, optim, train_loss, train_acc, val_acc, path=generate_checkpoint_path())"
   ]
  },
  {
   "cell_type": "code",
   "execution_count": 14,
   "id": "c2c9bbb2-8902-4e8a-9ecd-d73bdaaf266e",
   "metadata": {},
   "outputs": [
    {
     "data": {
      "text/plain": [
       "device(type='cuda')"
      ]
     },
     "execution_count": 14,
     "metadata": {},
     "output_type": "execute_result"
    }
   ],
   "source": [
    "device = torch.device('cuda')\n",
    "device"
   ]
  },
  {
   "cell_type": "code",
   "execution_count": 15,
   "id": "b3604b94-732b-4304-9c54-b730b3333778",
   "metadata": {},
   "outputs": [],
   "source": [
    "# epoch, model, optim, train_loss, train_acc, val_acc = new_checkpoint()"
   ]
  },
  {
   "cell_type": "code",
   "execution_count": 16,
   "id": "a50c05c2-ea12-4ea3-aa49-1229d1ff05e2",
   "metadata": {},
   "outputs": [],
   "source": [
    "# train_loop(epoch, model, optim, train_loss, train_acc, val_acc, \n",
    "#            train_loader, val_loader, epochs=30)"
   ]
  },
  {
   "cell_type": "code",
   "execution_count": 17,
   "id": "c3274ea2-87c7-4b8f-a105-1718b68ffd56",
   "metadata": {},
   "outputs": [],
   "source": [
    "# epoch, model, optim, train_loss, train_acc, val_acc = load_checkpoint('checkpoints/checkpoint_218.ckpt')\n",
    "# epoch"
   ]
  },
  {
   "cell_type": "markdown",
   "id": "2d40ecb1-0e97-4f2c-ad72-bdfbd330b570",
   "metadata": {},
   "source": [
    "### Results"
   ]
  },
  {
   "cell_type": "code",
   "execution_count": 18,
   "id": "97144ba3-c85b-4e25-a6a4-3f8d4cdbd1d0",
   "metadata": {},
   "outputs": [
    {
     "data": {
      "text/plain": [
       "30"
      ]
     },
     "execution_count": 18,
     "metadata": {},
     "output_type": "execute_result"
    }
   ],
   "source": [
    "epoch, model, optim, train_loss, train_acc, val_acc = load_checkpoint('checkpoints/checkpoint_272.ckpt')\n",
    "epoch"
   ]
  },
  {
   "cell_type": "code",
   "execution_count": 19,
   "id": "ca732a74-1757-4038-916d-24d44b62ee5b",
   "metadata": {},
   "outputs": [
    {
     "data": {
      "image/png": "[encoded data removed]",
      "text/plain": [
       "<Figure size 800x700 with 2 Axes>"
      ]
     },
     "metadata": {},
     "output_type": "display_data"
    }
   ],
   "source": [
    "plt.figure(figsize=(8, 7))\n",
    "\n",
    "plt.subplot(211)\n",
    "plt.title('train loss')\n",
    "plt.plot(train_loss)\n",
    "\n",
    "plt.subplot(212)\n",
    "plt.title('accuracy')\n",
    "\n",
    "plt.plot(train_acc)\n",
    "plt.plot(val_acc)\n",
    "plt.legend(['train', 'val'])\n",
    "plt.grid(True)\n",
    "plt.show()"
   ]
  },
  {
   "cell_type": "code",
   "execution_count": 20,
   "id": "2a3ac770-a05f-40d0-aafd-2269b0a0d217",
   "metadata": {},
   "outputs": [
    {
     "name": "stdout",
     "output_type": "stream",
     "text": [
      "val accuracy: 0.9910\n"
     ]
    }
   ],
   "source": [
    "print('val accuracy: {:.4f}'.format(val_acc[-1]))"
   ]
  },
  {
   "cell_type": "code",
   "execution_count": 21,
   "id": "bab6e575-a6ec-4041-a385-952a680149fa",
   "metadata": {},
   "outputs": [
    {
     "data": {
      "image/png": "[encoded data removed]",
      "text/plain": [
       "<Figure size 1200x300 with 32 Axes>"
      ]
     },
     "metadata": {},
     "output_type": "display_data"
    }
   ],
   "source": [
    "def draw_batch(imgs, true_labels):\n",
    "    n = 16\n",
    "\n",
    "    imgs = imgs[:n]\n",
    "    true_labels = true_labels[:n]\n",
    "    \n",
    "    plt.figure(figsize=(12, 3))\n",
    "    \n",
    "    with torch.no_grad():\n",
    "        labels = model(imgs.to(device)).cpu()\n",
    "    \n",
    "    for i, (img, label, true_label) in enumerate(zip(imgs, labels, true_labels)):\n",
    "        plt.subplot(2, n, i + 1)\n",
    "        plt.axis('off')\n",
    "\n",
    "        label -= label.min()\n",
    "        label /= label.max()\n",
    "        true_label = torch.argmax(true_label)\n",
    "        \n",
    "        color = ['tab:blue'] * true_label + ['tab:orange'] + ['tab:blue'] * (9 - true_label)\n",
    "        plt.bar(np.arange(10), label, color=color)\n",
    "\n",
    "    for i, (img, label, true_label) in enumerate(zip(imgs, labels, true_labels)):\n",
    "        plt.subplot(2, n, i + n + 1)\n",
    "        plt.title(int(torch.argmax(label)))\n",
    "        plt.axis('off')\n",
    "        plt.imshow(img.reshape(28, 28))\n",
    "\n",
    "batch = next(iter(val_loader))\n",
    "draw_batch(*batch)"
   ]
  },
  {
   "cell_type": "code",
   "execution_count": 22,
   "id": "e22d9fd8-def9-42ed-ae9a-121215987d9b",
   "metadata": {},
   "outputs": [],
   "source": [
    "def predict(model, dataloader):\n",
    "    all_outs = []\n",
    "    all_true_labels = []\n",
    "    \n",
    "    with torch.no_grad():\n",
    "        outs = []\n",
    "        for batch in tqdm(dataloader):\n",
    "            if type(batch) is list:\n",
    "                # train or val\n",
    "                imgs, true_labels = batch\n",
    "                \n",
    "                all_true_labels.extend(true_labels)\n",
    "\n",
    "            else:\n",
    "                # test\n",
    "                imgs = batch            \n",
    "            \n",
    "            outs = model(imgs.to(device)).cpu()\n",
    "            all_outs.extend(outs)\n",
    "            \n",
    "    all_outs = torch.vstack(all_outs)\n",
    "    all_outs = all_outs.argmax(dim=1)\n",
    "\n",
    "    if all_true_labels:\n",
    "        all_true_labels = torch.vstack(all_true_labels)\n",
    "        all_true_labels = all_true_labels.argmax(dim=1)\n",
    "    \n",
    "    return all_outs, all_true_labels"
   ]
  },
  {
   "cell_type": "code",
   "execution_count": 23,
   "id": "0f0cbb69-0af7-4a97-a7ae-c949eb5d7c46",
   "metadata": {},
   "outputs": [
    {
     "data": {
      "application/vnd.jupyter.widget-view+json": {
       "model_id": "b51546756b2a4310b76e5edcdf64bb3c",
       "version_major": 2,
       "version_minor": 0
      },
      "text/plain": [
       "  0%|          | 0/89 [00:00<?, ?it/s]"
      ]
     },
     "metadata": {},
     "output_type": "display_data"
    },
    {
     "data": {
      "text/plain": [
       "(5658, 5658)"
      ]
     },
     "execution_count": 23,
     "metadata": {},
     "output_type": "execute_result"
    }
   ],
   "source": [
    "val_outs, val_true_labels = predict(model, val_loader)\n",
    "\n",
    "val_outs.shape[0], val_true_labels.shape[0]"
   ]
  },
  {
   "cell_type": "code",
   "execution_count": 24,
   "id": "fd0a6b60-101e-45d0-83a9-4e2565a65d40",
   "metadata": {},
   "outputs": [],
   "source": [
    "# !pip install seaborn"
   ]
  },
  {
   "cell_type": "code",
   "execution_count": 25,
   "id": "ea97ef18-69f9-4e1a-92ef-ad2a29dbae0f",
   "metadata": {},
   "outputs": [
    {
     "data": {
      "image/png": "[encoded data removed]",
      "text/plain": [
       "<Figure size 700x700 with 1 Axes>"
      ]
     },
     "metadata": {},
     "output_type": "display_data"
    }
   ],
   "source": [
    "import seaborn as sns\n",
    "from sklearn.metrics import confusion_matrix\n",
    "\n",
    "mat = confusion_matrix(val_true_labels, val_outs)\n",
    "\n",
    "\n",
    "plt.figure(figsize=(7, 7))\n",
    "plt.title('confusion matrix')\n",
    "sns.heatmap(mat.T, square=True, annot=True, cbar=False, cmap=plt.cm.Blues)\n",
    "plt.xlabel('predicted labels')\n",
    "plt.ylabel('true labels')\n",
    "plt.show()"
   ]
  },
  {
   "cell_type": "markdown",
   "id": "ac815508-2182-4a10-aad5-5e5aeb71388f",
   "metadata": {},
   "source": [
    "### Generate submission"
   ]
  },
  {
   "cell_type": "code",
   "execution_count": 26,
   "id": "992f9349-dcc2-45e0-909d-bedf47fd6049",
   "metadata": {},
   "outputs": [
    {
     "data": {
      "application/vnd.jupyter.widget-view+json": {
       "model_id": "ac63e394441c4cf4bdc01f305276a175",
       "version_major": 2,
       "version_minor": 0
      },
      "text/plain": [
       "  0%|          | 0/438 [00:00<?, ?it/s]"
      ]
     },
     "metadata": {},
     "output_type": "display_data"
    }
   ],
   "source": [
    "test_outs, _ = predict(model, test_loader)"
   ]
  },
  {
   "cell_type": "code",
   "execution_count": 27,
   "id": "691683a4-1694-4fc1-ab4e-39b847518f0d",
   "metadata": {},
   "outputs": [],
   "source": [
    "df = pd.read_csv('data/sample_submission.csv')\n",
    "df.Label = test_outs"
   ]
  },
  {
   "cell_type": "code",
   "execution_count": 28,
   "id": "d65f8a55-aef6-4217-8355-2fb0c487035d",
   "metadata": {},
   "outputs": [],
   "source": [
    "df.to_csv('data/submission.csv', index=False)"
   ]
  },
  {
   "cell_type": "code",
   "execution_count": null,
   "id": "70b70ba3-1316-4a2d-92b0-0a76dee754f8",
   "metadata": {},
   "outputs": [],
   "source": []
  }
 ],
 "metadata": {
  "kernelspec": {
   "display_name": "Python 3 (ipykernel)",
   "language": "python",
   "name": "python3"
  },
  "language_info": {
   "codemirror_mode": {
    "name": "ipython",
    "version": 3
   },
   "file_extension": ".py",
   "mimetype": "text/x-python",
   "name": "python",
   "nbconvert_exporter": "python",
   "pygments_lexer": "ipython3",
   "version": "3.10.12"
  }
 },
 "nbformat": 4,
 "nbformat_minor": 5
}
